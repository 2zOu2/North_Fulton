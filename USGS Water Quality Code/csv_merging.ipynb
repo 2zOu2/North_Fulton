{
 "cells": [
  {
   "cell_type": "code",
   "execution_count": 1,
   "id": "77bbc366",
   "metadata": {},
   "outputs": [],
   "source": [
    "import os\n",
    "import pandas as pd\n",
    "from typing import Dict"
   ]
  },
  {
   "cell_type": "code",
   "execution_count": 2,
   "id": "04a9297c",
   "metadata": {},
   "outputs": [],
   "source": [
    "files = os.listdir(\"./data/\")\n",
    "\n",
    "csv_files = [file for file in files if file.endswith('.csv')]\n",
    "\n",
    "dataframes = {}\n",
    "\n",
    "for csv_file in csv_files:\n",
    "    variable_name = os.path.splitext(csv_file)[0]\n",
    "    path_name = './data/' + csv_file\n",
    "    dataframes[variable_name] = pd.read_csv(path_name, dtype=str)"
   ]
  },
  {
   "cell_type": "code",
   "execution_count": 3,
   "id": "301b1fbd",
   "metadata": {},
   "outputs": [],
   "source": [
    "test = dataframes"
   ]
  },
  {
   "cell_type": "code",
   "execution_count": 4,
   "id": "cee53f46",
   "metadata": {},
   "outputs": [],
   "source": [
    "def csv_merging(dataframes: Dict[str, pd.DataFrame]):\n",
    "    file_names = list(dataframes.keys())\n",
    "    if len(file_names) != 1:\n",
    "        current_file = file_names[0]\n",
    "        next_file = file_names[1]\n",
    "        current_df = dataframes[current_file]\n",
    "        next_df = dataframes[next_file]\n",
    "        current_columns = set(current_df.columns)\n",
    "        next_columns = set(next_df.columns)\n",
    "        common_variable = list(current_columns.intersection(next_columns))\n",
    "        merged_df = pd.merge(current_df, next_df, on=common_variable, how='outer')\n",
    "        dataframes[next_file] = merged_df\n",
    "        del dataframes[current_file]\n",
    "        return csv_merging(dataframes)\n",
    "    else:\n",
    "        return dataframes[file_names[0]]"
   ]
  },
  {
   "cell_type": "code",
   "execution_count": 5,
   "id": "2a865dc7",
   "metadata": {},
   "outputs": [
    {
     "name": "stdout",
     "output_type": "stream",
     "text": [
      "9\n",
      "77\n",
      "21\n",
      "8\n",
      "93\n",
      "156\n",
      "7\n",
      "177\n",
      "78\n",
      "6\n",
      "182\n",
      "32\n",
      "5\n",
      "211\n",
      "10\n",
      "4\n",
      "218\n",
      "10\n",
      "3\n",
      "218\n",
      "81\n",
      "2\n",
      "227\n",
      "37\n",
      "1\n"
     ]
    }
   ],
   "source": [
    "final_csv = csv_merging(test)"
   ]
  },
  {
   "cell_type": "code",
   "execution_count": 7,
   "id": "4aeaf697",
   "metadata": {},
   "outputs": [],
   "source": [
    "final_csv.to_csv('final.csv', index=False)"
   ]
  },
  {
   "cell_type": "code",
   "execution_count": null,
   "id": "06c3e6d6",
   "metadata": {},
   "outputs": [],
   "source": [
    "# Test Case\n",
    "import pandas as pd\n",
    "from functools import reduce\n",
    "from typing import Dict\n",
    "\n",
    "def csv_merging(dataframes: Dict[str, pd.DataFrame]):\n",
    "    # Extract dataframes from the dictionary\n",
    "    dfs = list(dataframes.values())\n",
    "    \n",
    "    # Concatenate all dataframes\n",
    "    merged_df = reduce(lambda left, right: pd.merge(left, right, on='common_variable', how='outer'), dfs)\n",
    "    \n",
    "    return merged_df"
   ]
  }
 ],
 "metadata": {
  "kernelspec": {
   "display_name": "Python 3 (ipykernel)",
   "language": "python",
   "name": "python3"
  },
  "language_info": {
   "codemirror_mode": {
    "name": "ipython",
    "version": 3
   },
   "file_extension": ".py",
   "mimetype": "text/x-python",
   "name": "python",
   "nbconvert_exporter": "python",
   "pygments_lexer": "ipython3",
   "version": "3.11.5"
  }
 },
 "nbformat": 4,
 "nbformat_minor": 5
}
